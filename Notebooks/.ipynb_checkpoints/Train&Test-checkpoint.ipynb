{
 "cells": [
  {
   "cell_type": "markdown",
   "id": "f95a4f21",
   "metadata": {},
   "source": [
    "# MODEL BUILDING for CarDekho Data"
   ]
  },
  {
   "cell_type": "code",
   "execution_count": 1,
   "id": "f4560e31",
   "metadata": {},
   "outputs": [],
   "source": [
    "# import required libraries\n",
    "import numpy as np\n",
    "import pandas as pd\n",
    "import matplotlib.pyplot as plt\n",
    "import seaborn as sns\n",
    "import pickle"
   ]
  },
  {
   "cell_type": "markdown",
   "id": "40aa7fb6",
   "metadata": {},
   "source": [
    "Loading from EDA pickle file"
   ]
  },
  {
   "cell_type": "code",
   "execution_count": 2,
   "id": "fbd38318",
   "metadata": {},
   "outputs": [],
   "source": [
    "EDAFile=pickle.load(open('EDA_CarDekho.pkl','rb'))\n"
   ]
  },
  {
   "cell_type": "code",
   "execution_count": 3,
   "id": "4eefa0f8",
   "metadata": {},
   "outputs": [
    {
     "data": {
      "text/html": [
       "<div>\n",
       "<style scoped>\n",
       "    .dataframe tbody tr th:only-of-type {\n",
       "        vertical-align: middle;\n",
       "    }\n",
       "\n",
       "    .dataframe tbody tr th {\n",
       "        vertical-align: top;\n",
       "    }\n",
       "\n",
       "    .dataframe thead th {\n",
       "        text-align: right;\n",
       "    }\n",
       "</style>\n",
       "<table border=\"1\" class=\"dataframe\">\n",
       "  <thead>\n",
       "    <tr style=\"text-align: right;\">\n",
       "      <th></th>\n",
       "      <th>selling_price</th>\n",
       "      <th>km_driven</th>\n",
       "      <th>owner</th>\n",
       "      <th>mileage</th>\n",
       "      <th>engine</th>\n",
       "      <th>max_power</th>\n",
       "      <th>seats</th>\n",
       "      <th>model</th>\n",
       "      <th>year_old</th>\n",
       "      <th>transmission</th>\n",
       "      <th>Seller_Dealer</th>\n",
       "      <th>Seller_Individual</th>\n",
       "      <th>Seller_Trustmark Dealer</th>\n",
       "      <th>fuel_CNG</th>\n",
       "      <th>fuel_Diesel</th>\n",
       "      <th>fuel_LPG</th>\n",
       "      <th>fuel_Petrol</th>\n",
       "    </tr>\n",
       "  </thead>\n",
       "  <tbody>\n",
       "    <tr>\n",
       "      <th>0</th>\n",
       "      <td>450000</td>\n",
       "      <td>145500</td>\n",
       "      <td>1</td>\n",
       "      <td>23.40</td>\n",
       "      <td>1248</td>\n",
       "      <td>74.00</td>\n",
       "      <td>5.0</td>\n",
       "      <td>Swift</td>\n",
       "      <td>8</td>\n",
       "      <td>1</td>\n",
       "      <td>0</td>\n",
       "      <td>1</td>\n",
       "      <td>0</td>\n",
       "      <td>0</td>\n",
       "      <td>1</td>\n",
       "      <td>0</td>\n",
       "      <td>0</td>\n",
       "    </tr>\n",
       "    <tr>\n",
       "      <th>1</th>\n",
       "      <td>370000</td>\n",
       "      <td>120000</td>\n",
       "      <td>2</td>\n",
       "      <td>21.14</td>\n",
       "      <td>1498</td>\n",
       "      <td>103.52</td>\n",
       "      <td>5.0</td>\n",
       "      <td>Rapid</td>\n",
       "      <td>8</td>\n",
       "      <td>1</td>\n",
       "      <td>0</td>\n",
       "      <td>1</td>\n",
       "      <td>0</td>\n",
       "      <td>0</td>\n",
       "      <td>1</td>\n",
       "      <td>0</td>\n",
       "      <td>0</td>\n",
       "    </tr>\n",
       "    <tr>\n",
       "      <th>2</th>\n",
       "      <td>158000</td>\n",
       "      <td>140000</td>\n",
       "      <td>3</td>\n",
       "      <td>17.70</td>\n",
       "      <td>1497</td>\n",
       "      <td>78.00</td>\n",
       "      <td>5.0</td>\n",
       "      <td>City</td>\n",
       "      <td>16</td>\n",
       "      <td>1</td>\n",
       "      <td>0</td>\n",
       "      <td>1</td>\n",
       "      <td>0</td>\n",
       "      <td>0</td>\n",
       "      <td>0</td>\n",
       "      <td>0</td>\n",
       "      <td>1</td>\n",
       "    </tr>\n",
       "    <tr>\n",
       "      <th>3</th>\n",
       "      <td>225000</td>\n",
       "      <td>127000</td>\n",
       "      <td>1</td>\n",
       "      <td>23.00</td>\n",
       "      <td>1396</td>\n",
       "      <td>90.00</td>\n",
       "      <td>5.0</td>\n",
       "      <td>i20</td>\n",
       "      <td>12</td>\n",
       "      <td>1</td>\n",
       "      <td>0</td>\n",
       "      <td>1</td>\n",
       "      <td>0</td>\n",
       "      <td>0</td>\n",
       "      <td>1</td>\n",
       "      <td>0</td>\n",
       "      <td>0</td>\n",
       "    </tr>\n",
       "    <tr>\n",
       "      <th>4</th>\n",
       "      <td>130000</td>\n",
       "      <td>120000</td>\n",
       "      <td>1</td>\n",
       "      <td>16.10</td>\n",
       "      <td>1298</td>\n",
       "      <td>88.20</td>\n",
       "      <td>5.0</td>\n",
       "      <td>Swift</td>\n",
       "      <td>15</td>\n",
       "      <td>1</td>\n",
       "      <td>0</td>\n",
       "      <td>1</td>\n",
       "      <td>0</td>\n",
       "      <td>0</td>\n",
       "      <td>0</td>\n",
       "      <td>0</td>\n",
       "      <td>1</td>\n",
       "    </tr>\n",
       "    <tr>\n",
       "      <th>...</th>\n",
       "      <td>...</td>\n",
       "      <td>...</td>\n",
       "      <td>...</td>\n",
       "      <td>...</td>\n",
       "      <td>...</td>\n",
       "      <td>...</td>\n",
       "      <td>...</td>\n",
       "      <td>...</td>\n",
       "      <td>...</td>\n",
       "      <td>...</td>\n",
       "      <td>...</td>\n",
       "      <td>...</td>\n",
       "      <td>...</td>\n",
       "      <td>...</td>\n",
       "      <td>...</td>\n",
       "      <td>...</td>\n",
       "      <td>...</td>\n",
       "    </tr>\n",
       "    <tr>\n",
       "      <th>8121</th>\n",
       "      <td>260000</td>\n",
       "      <td>50000</td>\n",
       "      <td>2</td>\n",
       "      <td>18.90</td>\n",
       "      <td>998</td>\n",
       "      <td>67.10</td>\n",
       "      <td>5.0</td>\n",
       "      <td>Wagon</td>\n",
       "      <td>9</td>\n",
       "      <td>1</td>\n",
       "      <td>0</td>\n",
       "      <td>1</td>\n",
       "      <td>0</td>\n",
       "      <td>0</td>\n",
       "      <td>0</td>\n",
       "      <td>0</td>\n",
       "      <td>1</td>\n",
       "    </tr>\n",
       "    <tr>\n",
       "      <th>8122</th>\n",
       "      <td>475000</td>\n",
       "      <td>80000</td>\n",
       "      <td>2</td>\n",
       "      <td>22.54</td>\n",
       "      <td>1396</td>\n",
       "      <td>88.73</td>\n",
       "      <td>5.0</td>\n",
       "      <td>i20</td>\n",
       "      <td>8</td>\n",
       "      <td>1</td>\n",
       "      <td>0</td>\n",
       "      <td>1</td>\n",
       "      <td>0</td>\n",
       "      <td>0</td>\n",
       "      <td>1</td>\n",
       "      <td>0</td>\n",
       "      <td>0</td>\n",
       "    </tr>\n",
       "    <tr>\n",
       "      <th>8123</th>\n",
       "      <td>320000</td>\n",
       "      <td>110000</td>\n",
       "      <td>1</td>\n",
       "      <td>18.50</td>\n",
       "      <td>1197</td>\n",
       "      <td>82.85</td>\n",
       "      <td>5.0</td>\n",
       "      <td>i20</td>\n",
       "      <td>9</td>\n",
       "      <td>1</td>\n",
       "      <td>0</td>\n",
       "      <td>1</td>\n",
       "      <td>0</td>\n",
       "      <td>0</td>\n",
       "      <td>0</td>\n",
       "      <td>0</td>\n",
       "      <td>1</td>\n",
       "    </tr>\n",
       "    <tr>\n",
       "      <th>8124</th>\n",
       "      <td>135000</td>\n",
       "      <td>119000</td>\n",
       "      <td>4</td>\n",
       "      <td>16.80</td>\n",
       "      <td>1493</td>\n",
       "      <td>110.00</td>\n",
       "      <td>5.0</td>\n",
       "      <td>Verna</td>\n",
       "      <td>15</td>\n",
       "      <td>1</td>\n",
       "      <td>0</td>\n",
       "      <td>1</td>\n",
       "      <td>0</td>\n",
       "      <td>0</td>\n",
       "      <td>1</td>\n",
       "      <td>0</td>\n",
       "      <td>0</td>\n",
       "    </tr>\n",
       "    <tr>\n",
       "      <th>8125</th>\n",
       "      <td>382000</td>\n",
       "      <td>120000</td>\n",
       "      <td>1</td>\n",
       "      <td>19.30</td>\n",
       "      <td>1248</td>\n",
       "      <td>73.90</td>\n",
       "      <td>5.0</td>\n",
       "      <td>Swift</td>\n",
       "      <td>13</td>\n",
       "      <td>1</td>\n",
       "      <td>0</td>\n",
       "      <td>1</td>\n",
       "      <td>0</td>\n",
       "      <td>0</td>\n",
       "      <td>1</td>\n",
       "      <td>0</td>\n",
       "      <td>0</td>\n",
       "    </tr>\n",
       "  </tbody>\n",
       "</table>\n",
       "<p>6683 rows × 17 columns</p>\n",
       "</div>"
      ],
      "text/plain": [
       "      selling_price  km_driven  owner  mileage  engine  max_power seats  \\\n",
       "0            450000     145500      1    23.40    1248      74.00   5.0   \n",
       "1            370000     120000      2    21.14    1498     103.52   5.0   \n",
       "2            158000     140000      3    17.70    1497      78.00   5.0   \n",
       "3            225000     127000      1    23.00    1396      90.00   5.0   \n",
       "4            130000     120000      1    16.10    1298      88.20   5.0   \n",
       "...             ...        ...    ...      ...     ...        ...   ...   \n",
       "8121         260000      50000      2    18.90     998      67.10   5.0   \n",
       "8122         475000      80000      2    22.54    1396      88.73   5.0   \n",
       "8123         320000     110000      1    18.50    1197      82.85   5.0   \n",
       "8124         135000     119000      4    16.80    1493     110.00   5.0   \n",
       "8125         382000     120000      1    19.30    1248      73.90   5.0   \n",
       "\n",
       "      model  year_old  transmission  Seller_Dealer  Seller_Individual  \\\n",
       "0     Swift         8             1              0                  1   \n",
       "1     Rapid         8             1              0                  1   \n",
       "2      City        16             1              0                  1   \n",
       "3       i20        12             1              0                  1   \n",
       "4     Swift        15             1              0                  1   \n",
       "...     ...       ...           ...            ...                ...   \n",
       "8121  Wagon         9             1              0                  1   \n",
       "8122    i20         8             1              0                  1   \n",
       "8123    i20         9             1              0                  1   \n",
       "8124  Verna        15             1              0                  1   \n",
       "8125  Swift        13             1              0                  1   \n",
       "\n",
       "      Seller_Trustmark Dealer  fuel_CNG  fuel_Diesel  fuel_LPG  fuel_Petrol  \n",
       "0                           0         0            1         0            0  \n",
       "1                           0         0            1         0            0  \n",
       "2                           0         0            0         0            1  \n",
       "3                           0         0            1         0            0  \n",
       "4                           0         0            0         0            1  \n",
       "...                       ...       ...          ...       ...          ...  \n",
       "8121                        0         0            0         0            1  \n",
       "8122                        0         0            1         0            0  \n",
       "8123                        0         0            0         0            1  \n",
       "8124                        0         0            1         0            0  \n",
       "8125                        0         0            1         0            0  \n",
       "\n",
       "[6683 rows x 17 columns]"
      ]
     },
     "execution_count": 3,
     "metadata": {},
     "output_type": "execute_result"
    }
   ],
   "source": [
    "EDAFile"
   ]
  },
  {
   "cell_type": "markdown",
   "id": "e3e5503d",
   "metadata": {},
   "source": [
    "Seperating Dependant and Independent variables"
   ]
  },
  {
   "cell_type": "code",
   "execution_count": 4,
   "id": "22f0ddba",
   "metadata": {},
   "outputs": [],
   "source": [
    "x =  EDAFile[['km_driven', 'owner', 'mileage', 'engine', 'max_power','seats', 'year_old', \n",
    "            'transmission', 'Seller_Dealer', 'Seller_Individual', 'Seller_Trustmark Dealer', \n",
    "            'fuel_CNG', 'fuel_Diesel', 'fuel_LPG', 'fuel_Petrol']]\n"
   ]
  },
  {
   "cell_type": "code",
   "execution_count": 5,
   "id": "1d8c2b48",
   "metadata": {},
   "outputs": [],
   "source": [
    "y=EDAFile['selling_price']"
   ]
  },
  {
   "cell_type": "code",
   "execution_count": 6,
   "id": "e51b1830",
   "metadata": {},
   "outputs": [
    {
     "data": {
      "text/html": [
       "<div>\n",
       "<style scoped>\n",
       "    .dataframe tbody tr th:only-of-type {\n",
       "        vertical-align: middle;\n",
       "    }\n",
       "\n",
       "    .dataframe tbody tr th {\n",
       "        vertical-align: top;\n",
       "    }\n",
       "\n",
       "    .dataframe thead th {\n",
       "        text-align: right;\n",
       "    }\n",
       "</style>\n",
       "<table border=\"1\" class=\"dataframe\">\n",
       "  <thead>\n",
       "    <tr style=\"text-align: right;\">\n",
       "      <th></th>\n",
       "      <th>km_driven</th>\n",
       "      <th>owner</th>\n",
       "      <th>mileage</th>\n",
       "      <th>engine</th>\n",
       "      <th>max_power</th>\n",
       "      <th>seats</th>\n",
       "      <th>year_old</th>\n",
       "      <th>transmission</th>\n",
       "      <th>Seller_Dealer</th>\n",
       "      <th>Seller_Individual</th>\n",
       "      <th>Seller_Trustmark Dealer</th>\n",
       "      <th>fuel_CNG</th>\n",
       "      <th>fuel_Diesel</th>\n",
       "      <th>fuel_LPG</th>\n",
       "      <th>fuel_Petrol</th>\n",
       "    </tr>\n",
       "  </thead>\n",
       "  <tbody>\n",
       "    <tr>\n",
       "      <th>0</th>\n",
       "      <td>145500</td>\n",
       "      <td>1</td>\n",
       "      <td>23.40</td>\n",
       "      <td>1248</td>\n",
       "      <td>74.00</td>\n",
       "      <td>5.0</td>\n",
       "      <td>8</td>\n",
       "      <td>1</td>\n",
       "      <td>0</td>\n",
       "      <td>1</td>\n",
       "      <td>0</td>\n",
       "      <td>0</td>\n",
       "      <td>1</td>\n",
       "      <td>0</td>\n",
       "      <td>0</td>\n",
       "    </tr>\n",
       "    <tr>\n",
       "      <th>1</th>\n",
       "      <td>120000</td>\n",
       "      <td>2</td>\n",
       "      <td>21.14</td>\n",
       "      <td>1498</td>\n",
       "      <td>103.52</td>\n",
       "      <td>5.0</td>\n",
       "      <td>8</td>\n",
       "      <td>1</td>\n",
       "      <td>0</td>\n",
       "      <td>1</td>\n",
       "      <td>0</td>\n",
       "      <td>0</td>\n",
       "      <td>1</td>\n",
       "      <td>0</td>\n",
       "      <td>0</td>\n",
       "    </tr>\n",
       "    <tr>\n",
       "      <th>2</th>\n",
       "      <td>140000</td>\n",
       "      <td>3</td>\n",
       "      <td>17.70</td>\n",
       "      <td>1497</td>\n",
       "      <td>78.00</td>\n",
       "      <td>5.0</td>\n",
       "      <td>16</td>\n",
       "      <td>1</td>\n",
       "      <td>0</td>\n",
       "      <td>1</td>\n",
       "      <td>0</td>\n",
       "      <td>0</td>\n",
       "      <td>0</td>\n",
       "      <td>0</td>\n",
       "      <td>1</td>\n",
       "    </tr>\n",
       "    <tr>\n",
       "      <th>3</th>\n",
       "      <td>127000</td>\n",
       "      <td>1</td>\n",
       "      <td>23.00</td>\n",
       "      <td>1396</td>\n",
       "      <td>90.00</td>\n",
       "      <td>5.0</td>\n",
       "      <td>12</td>\n",
       "      <td>1</td>\n",
       "      <td>0</td>\n",
       "      <td>1</td>\n",
       "      <td>0</td>\n",
       "      <td>0</td>\n",
       "      <td>1</td>\n",
       "      <td>0</td>\n",
       "      <td>0</td>\n",
       "    </tr>\n",
       "    <tr>\n",
       "      <th>4</th>\n",
       "      <td>120000</td>\n",
       "      <td>1</td>\n",
       "      <td>16.10</td>\n",
       "      <td>1298</td>\n",
       "      <td>88.20</td>\n",
       "      <td>5.0</td>\n",
       "      <td>15</td>\n",
       "      <td>1</td>\n",
       "      <td>0</td>\n",
       "      <td>1</td>\n",
       "      <td>0</td>\n",
       "      <td>0</td>\n",
       "      <td>0</td>\n",
       "      <td>0</td>\n",
       "      <td>1</td>\n",
       "    </tr>\n",
       "    <tr>\n",
       "      <th>...</th>\n",
       "      <td>...</td>\n",
       "      <td>...</td>\n",
       "      <td>...</td>\n",
       "      <td>...</td>\n",
       "      <td>...</td>\n",
       "      <td>...</td>\n",
       "      <td>...</td>\n",
       "      <td>...</td>\n",
       "      <td>...</td>\n",
       "      <td>...</td>\n",
       "      <td>...</td>\n",
       "      <td>...</td>\n",
       "      <td>...</td>\n",
       "      <td>...</td>\n",
       "      <td>...</td>\n",
       "    </tr>\n",
       "    <tr>\n",
       "      <th>8121</th>\n",
       "      <td>50000</td>\n",
       "      <td>2</td>\n",
       "      <td>18.90</td>\n",
       "      <td>998</td>\n",
       "      <td>67.10</td>\n",
       "      <td>5.0</td>\n",
       "      <td>9</td>\n",
       "      <td>1</td>\n",
       "      <td>0</td>\n",
       "      <td>1</td>\n",
       "      <td>0</td>\n",
       "      <td>0</td>\n",
       "      <td>0</td>\n",
       "      <td>0</td>\n",
       "      <td>1</td>\n",
       "    </tr>\n",
       "    <tr>\n",
       "      <th>8122</th>\n",
       "      <td>80000</td>\n",
       "      <td>2</td>\n",
       "      <td>22.54</td>\n",
       "      <td>1396</td>\n",
       "      <td>88.73</td>\n",
       "      <td>5.0</td>\n",
       "      <td>8</td>\n",
       "      <td>1</td>\n",
       "      <td>0</td>\n",
       "      <td>1</td>\n",
       "      <td>0</td>\n",
       "      <td>0</td>\n",
       "      <td>1</td>\n",
       "      <td>0</td>\n",
       "      <td>0</td>\n",
       "    </tr>\n",
       "    <tr>\n",
       "      <th>8123</th>\n",
       "      <td>110000</td>\n",
       "      <td>1</td>\n",
       "      <td>18.50</td>\n",
       "      <td>1197</td>\n",
       "      <td>82.85</td>\n",
       "      <td>5.0</td>\n",
       "      <td>9</td>\n",
       "      <td>1</td>\n",
       "      <td>0</td>\n",
       "      <td>1</td>\n",
       "      <td>0</td>\n",
       "      <td>0</td>\n",
       "      <td>0</td>\n",
       "      <td>0</td>\n",
       "      <td>1</td>\n",
       "    </tr>\n",
       "    <tr>\n",
       "      <th>8124</th>\n",
       "      <td>119000</td>\n",
       "      <td>4</td>\n",
       "      <td>16.80</td>\n",
       "      <td>1493</td>\n",
       "      <td>110.00</td>\n",
       "      <td>5.0</td>\n",
       "      <td>15</td>\n",
       "      <td>1</td>\n",
       "      <td>0</td>\n",
       "      <td>1</td>\n",
       "      <td>0</td>\n",
       "      <td>0</td>\n",
       "      <td>1</td>\n",
       "      <td>0</td>\n",
       "      <td>0</td>\n",
       "    </tr>\n",
       "    <tr>\n",
       "      <th>8125</th>\n",
       "      <td>120000</td>\n",
       "      <td>1</td>\n",
       "      <td>19.30</td>\n",
       "      <td>1248</td>\n",
       "      <td>73.90</td>\n",
       "      <td>5.0</td>\n",
       "      <td>13</td>\n",
       "      <td>1</td>\n",
       "      <td>0</td>\n",
       "      <td>1</td>\n",
       "      <td>0</td>\n",
       "      <td>0</td>\n",
       "      <td>1</td>\n",
       "      <td>0</td>\n",
       "      <td>0</td>\n",
       "    </tr>\n",
       "  </tbody>\n",
       "</table>\n",
       "<p>6683 rows × 15 columns</p>\n",
       "</div>"
      ],
      "text/plain": [
       "      km_driven  owner  mileage  engine  max_power seats  year_old  \\\n",
       "0        145500      1    23.40    1248      74.00   5.0         8   \n",
       "1        120000      2    21.14    1498     103.52   5.0         8   \n",
       "2        140000      3    17.70    1497      78.00   5.0        16   \n",
       "3        127000      1    23.00    1396      90.00   5.0        12   \n",
       "4        120000      1    16.10    1298      88.20   5.0        15   \n",
       "...         ...    ...      ...     ...        ...   ...       ...   \n",
       "8121      50000      2    18.90     998      67.10   5.0         9   \n",
       "8122      80000      2    22.54    1396      88.73   5.0         8   \n",
       "8123     110000      1    18.50    1197      82.85   5.0         9   \n",
       "8124     119000      4    16.80    1493     110.00   5.0        15   \n",
       "8125     120000      1    19.30    1248      73.90   5.0        13   \n",
       "\n",
       "      transmission  Seller_Dealer  Seller_Individual  Seller_Trustmark Dealer  \\\n",
       "0                1              0                  1                        0   \n",
       "1                1              0                  1                        0   \n",
       "2                1              0                  1                        0   \n",
       "3                1              0                  1                        0   \n",
       "4                1              0                  1                        0   \n",
       "...            ...            ...                ...                      ...   \n",
       "8121             1              0                  1                        0   \n",
       "8122             1              0                  1                        0   \n",
       "8123             1              0                  1                        0   \n",
       "8124             1              0                  1                        0   \n",
       "8125             1              0                  1                        0   \n",
       "\n",
       "      fuel_CNG  fuel_Diesel  fuel_LPG  fuel_Petrol  \n",
       "0            0            1         0            0  \n",
       "1            0            1         0            0  \n",
       "2            0            0         0            1  \n",
       "3            0            1         0            0  \n",
       "4            0            0         0            1  \n",
       "...        ...          ...       ...          ...  \n",
       "8121         0            0         0            1  \n",
       "8122         0            1         0            0  \n",
       "8123         0            0         0            1  \n",
       "8124         0            1         0            0  \n",
       "8125         0            1         0            0  \n",
       "\n",
       "[6683 rows x 15 columns]"
      ]
     },
     "execution_count": 6,
     "metadata": {},
     "output_type": "execute_result"
    }
   ],
   "source": [
    "x"
   ]
  },
  {
   "cell_type": "code",
   "execution_count": 7,
   "id": "1dfdf54e",
   "metadata": {},
   "outputs": [
    {
     "data": {
      "text/plain": [
       "0       450000\n",
       "1       370000\n",
       "2       158000\n",
       "3       225000\n",
       "4       130000\n",
       "         ...  \n",
       "8121    260000\n",
       "8122    475000\n",
       "8123    320000\n",
       "8124    135000\n",
       "8125    382000\n",
       "Name: selling_price, Length: 6683, dtype: int64"
      ]
     },
     "execution_count": 7,
     "metadata": {},
     "output_type": "execute_result"
    }
   ],
   "source": [
    "y"
   ]
  },
  {
   "cell_type": "markdown",
   "id": "02a6dea3",
   "metadata": {},
   "source": [
    "# Buliding Regression Model"
   ]
  },
  {
   "cell_type": "code",
   "execution_count": 8,
   "id": "ee6af5a1",
   "metadata": {},
   "outputs": [],
   "source": [
    "from sklearn.model_selection import train_test_split\n",
    "X_train, X_test, y_train, y_test = train_test_split(x,y, test_size = 0.2,random_state=40)"
   ]
  },
  {
   "cell_type": "code",
   "execution_count": 9,
   "id": "a1d79e78",
   "metadata": {},
   "outputs": [
    {
     "data": {
      "text/plain": [
       "((5346, 15), (1337, 15), (5346,), (1337,))"
      ]
     },
     "execution_count": 9,
     "metadata": {},
     "output_type": "execute_result"
    }
   ],
   "source": [
    "X_train.shape,X_test.shape, y_train.shape, y_test.shape"
   ]
  },
  {
   "cell_type": "code",
   "execution_count": 10,
   "id": "2a479433",
   "metadata": {},
   "outputs": [],
   "source": [
    "from sklearn.linear_model import LinearRegression\n",
    "from sklearn.ensemble import RandomForestRegressor\n",
    "from sklearn.tree import DecisionTreeRegressor\n",
    "from sklearn.metrics import classification_report\n",
    "from sklearn.metrics import accuracy_score\n",
    "from sklearn.metrics import confusion_matrix\n",
    "from sklearn.preprocessing import LabelEncoder\n",
    "from sklearn import metrics\n",
    "from sklearn.metrics import mean_squared_error, r2_score, mean_absolute_error\n",
    "from sklearn.preprocessing import StandardScaler\n",
    "from sklearn.model_selection import cross_val_score"
   ]
  },
  {
   "cell_type": "code",
   "execution_count": 11,
   "id": "97770b71",
   "metadata": {},
   "outputs": [],
   "source": [
    "scaler = StandardScaler()\n",
    "X_train = scaler.fit_transform(X_train)\n",
    "X_test = scaler.transform(X_test)"
   ]
  },
  {
   "cell_type": "markdown",
   "id": "8159731a",
   "metadata": {},
   "source": [
    "Define two functions to test which regressor will give accurate score"
   ]
  },
  {
   "cell_type": "code",
   "execution_count": 12,
   "id": "c78f7194",
   "metadata": {},
   "outputs": [],
   "source": [
    "def do_prediction(classifier):\n",
    "    \n",
    "    # training the classifier on the dataset\n",
    "    classifier.fit(X_train, y_train)\n",
    "    \n",
    "    #Do prediction and evaluting the prediction\n",
    "    prediction = classifier.predict(X_test)\n",
    "    cross_validation_score = cross_val(X_train, y_train, classifier)\n",
    "    error = mean_absolute_error(y_test, prediction)\n",
    "    return error, cross_validation_score\n",
    "\n",
    "def cross_val(xtrain, ytrain, classifier):\n",
    "    \n",
    "    # Applying k-Fold Cross Validation\n",
    "    accuracies = cross_val_score(estimator = classifier, X = xtrain, y = ytrain, cv = 5)\n",
    "    return accuracies.mean()\n"
   ]
  },
  {
   "cell_type": "markdown",
   "id": "4317dfc6",
   "metadata": {},
   "source": [
    "# LinearRegression Model"
   ]
  },
  {
   "cell_type": "code",
   "execution_count": 13,
   "id": "3aa84dc4",
   "metadata": {},
   "outputs": [
    {
     "name": "stdout",
     "output_type": "stream",
     "text": [
      "Linear Regression MAE: 185424.25\n",
      "Cross validation score: 0.61\n"
     ]
    }
   ],
   "source": [
    "model_1 = LinearRegression()\n",
    "error, score = do_prediction(model_1)\n",
    "\n",
    "print('Linear Regression MAE: {}'.format(round(error,2)))\n",
    "print('Cross validation score: {}'.format(round(score,2)))"
   ]
  },
  {
   "cell_type": "code",
   "execution_count": 14,
   "id": "5b66660d",
   "metadata": {},
   "outputs": [
    {
     "data": {
      "text/plain": [
       "LinearRegression()"
      ]
     },
     "execution_count": 14,
     "metadata": {},
     "output_type": "execute_result"
    }
   ],
   "source": [
    "model_1.fit(X_train, y_train)"
   ]
  },
  {
   "cell_type": "code",
   "execution_count": 15,
   "id": "205919ed",
   "metadata": {},
   "outputs": [
    {
     "data": {
      "text/plain": [
       "172791.67840752038"
      ]
     },
     "execution_count": 15,
     "metadata": {},
     "output_type": "execute_result"
    }
   ],
   "source": [
    "mean_absolute_error(y_train, model_1.predict(X_train))"
   ]
  },
  {
   "cell_type": "code",
   "execution_count": 16,
   "id": "353c1f29",
   "metadata": {},
   "outputs": [
    {
     "data": {
      "text/plain": [
       "185424.25059476495"
      ]
     },
     "execution_count": 16,
     "metadata": {},
     "output_type": "execute_result"
    }
   ],
   "source": [
    "mean_absolute_error(y_test, model_1.predict(X_test))"
   ]
  },
  {
   "cell_type": "code",
   "execution_count": 17,
   "id": "8c4ad429",
   "metadata": {},
   "outputs": [
    {
     "data": {
      "text/plain": [
       "array([ -35408.27303509,   -6014.09079822,   30188.55678239,\n",
       "         37209.25380234,  275928.24099273,    3135.4254743 ,\n",
       "       -131052.87012794,  -87389.92352889,   19304.16986267,\n",
       "        -17316.59636817,   -7561.43921667,    -634.5333342 ,\n",
       "          9006.09618671,    9144.45924412,  -10270.86527251])"
      ]
     },
     "execution_count": 17,
     "metadata": {},
     "output_type": "execute_result"
    }
   ],
   "source": [
    "model_1.coef_"
   ]
  },
  {
   "cell_type": "markdown",
   "id": "7de5a4ba",
   "metadata": {},
   "source": [
    "# DecisionTreeRegressor Model"
   ]
  },
  {
   "cell_type": "code",
   "execution_count": 19,
   "id": "7c56f6fb",
   "metadata": {},
   "outputs": [
    {
     "ename": "TypeError",
     "evalue": "'DecisionTreeRegressor' object is not callable",
     "output_type": "error",
     "traceback": [
      "\u001b[1;31m---------------------------------------------------------------------------\u001b[0m",
      "\u001b[1;31mTypeError\u001b[0m                                 Traceback (most recent call last)",
      "\u001b[1;32m~\\AppData\\Local\\Temp/ipykernel_10132/2909900773.py\u001b[0m in \u001b[0;36m<module>\u001b[1;34m\u001b[0m\n\u001b[1;32m----> 1\u001b[1;33m \u001b[0mmodel_2\u001b[0m \u001b[1;33m=\u001b[0m \u001b[0mDecisionTreeRegressor\u001b[0m\u001b[1;33m(\u001b[0m\u001b[1;33m)\u001b[0m\u001b[1;33m\u001b[0m\u001b[1;33m\u001b[0m\u001b[0m\n\u001b[0m\u001b[0;32m      2\u001b[0m \u001b[0merror\u001b[0m\u001b[1;33m,\u001b[0m \u001b[0mscore\u001b[0m \u001b[1;33m=\u001b[0m \u001b[0mdo_prediction\u001b[0m\u001b[1;33m(\u001b[0m\u001b[0mmodel_2\u001b[0m\u001b[1;33m)\u001b[0m\u001b[1;33m\u001b[0m\u001b[1;33m\u001b[0m\u001b[0m\n\u001b[0;32m      3\u001b[0m \u001b[1;33m\u001b[0m\u001b[0m\n\u001b[0;32m      4\u001b[0m \u001b[0mprint\u001b[0m\u001b[1;33m(\u001b[0m\u001b[1;34m'Decision Tree Regressor MAE: {}'\u001b[0m\u001b[1;33m.\u001b[0m\u001b[0mformat\u001b[0m\u001b[1;33m(\u001b[0m\u001b[0mround\u001b[0m\u001b[1;33m(\u001b[0m\u001b[0merror\u001b[0m\u001b[1;33m,\u001b[0m\u001b[1;36m2\u001b[0m\u001b[1;33m)\u001b[0m\u001b[1;33m)\u001b[0m\u001b[1;33m)\u001b[0m\u001b[1;33m\u001b[0m\u001b[1;33m\u001b[0m\u001b[0m\n\u001b[0;32m      5\u001b[0m \u001b[0mprint\u001b[0m\u001b[1;33m(\u001b[0m\u001b[1;34m'Cross validation score: {}'\u001b[0m\u001b[1;33m.\u001b[0m\u001b[0mformat\u001b[0m\u001b[1;33m(\u001b[0m\u001b[0mround\u001b[0m\u001b[1;33m(\u001b[0m\u001b[0mscore\u001b[0m\u001b[1;33m,\u001b[0m\u001b[1;36m2\u001b[0m\u001b[1;33m)\u001b[0m\u001b[1;33m)\u001b[0m\u001b[1;33m)\u001b[0m\u001b[1;33m\u001b[0m\u001b[1;33m\u001b[0m\u001b[0m\n",
      "\u001b[1;31mTypeError\u001b[0m: 'DecisionTreeRegressor' object is not callable"
     ]
    }
   ],
   "source": [
    "model_2 = DecisionTreeRegressor()\n",
    "error, score = do_prediction(model_2)\n",
    "\n",
    "print('Decision Tree Regressor MAE: {}'.format(round(error,2)))\n",
    "print('Cross validation score: {}'.format(round(score,2)))"
   ]
  },
  {
   "cell_type": "markdown",
   "id": "d5a48205",
   "metadata": {},
   "source": [
    "# RandomForestRegressor Model"
   ]
  },
  {
   "cell_type": "code",
   "execution_count": 20,
   "id": "6090e227",
   "metadata": {},
   "outputs": [
    {
     "name": "stdout",
     "output_type": "stream",
     "text": [
      "Random Forest Regressor MAE: 82151.77\n",
      "Cross validation score: 0.88\n"
     ]
    }
   ],
   "source": [
    "model_3 = RandomForestRegressor()\n",
    "error, score = do_prediction(model_3)\n",
    "\n",
    "print('Random Forest Regressor MAE: {}'.format(round(error,2)))\n",
    "print('Cross validation score: {}'.format(round(score,2)))"
   ]
  },
  {
   "cell_type": "markdown",
   "id": "3eafc910",
   "metadata": {},
   "source": [
    "So from the above observations RandomForestRegressor model is the best model with good score.\n",
    "So using RandomForestRegressor is best for prediction of our car data.\n",
    "\n"
   ]
  },
  {
   "cell_type": "markdown",
   "id": "c7711a4e",
   "metadata": {},
   "source": [
    "# BestModel: RandomForestRegressor"
   ]
  },
  {
   "cell_type": "code",
   "execution_count": 21,
   "id": "5eee77ef",
   "metadata": {},
   "outputs": [
    {
     "name": "stdout",
     "output_type": "stream",
     "text": [
      "Random Forest with hyperparameter tuning MAE: 86945.62\n",
      "Cross validation score: 0.85\n"
     ]
    }
   ],
   "source": [
    "best_model = RandomForestRegressor(n_estimators=300,\n",
    "                                  min_samples_split=10,\n",
    "                                  min_samples_leaf=1,\n",
    "                                  max_features='sqrt',\n",
    "                                  max_depth=60,\n",
    "                                  bootstrap=False)\n",
    "\n",
    "error, score = do_prediction(best_model)\n",
    "print('Random Forest with hyperparameter tuning MAE: {}'.format(round(error,2)))\n",
    "print('Cross validation score: {}'.format(round(score,2)))"
   ]
  },
  {
   "cell_type": "code",
   "execution_count": 22,
   "id": "7766753f",
   "metadata": {},
   "outputs": [
    {
     "data": {
      "text/plain": [
       "RandomForestRegressor(bootstrap=False, max_depth=60, max_features='sqrt',\n",
       "                      min_samples_split=10, n_estimators=300)"
      ]
     },
     "execution_count": 22,
     "metadata": {},
     "output_type": "execute_result"
    }
   ],
   "source": [
    "best_model"
   ]
  },
  {
   "cell_type": "code",
   "execution_count": 23,
   "id": "0bdae508",
   "metadata": {},
   "outputs": [],
   "source": [
    "pickle.dump(best_model, open('rfr_model.pkl', 'wb'))"
   ]
  },
  {
   "cell_type": "code",
   "execution_count": null,
   "id": "e084a4a2",
   "metadata": {},
   "outputs": [],
   "source": []
  },
  {
   "cell_type": "code",
   "execution_count": null,
   "id": "46f544d5",
   "metadata": {},
   "outputs": [],
   "source": []
  },
  {
   "cell_type": "code",
   "execution_count": 33,
   "id": "4acb854e",
   "metadata": {},
   "outputs": [],
   "source": [
    "y_pred=best_model.predict(X_test)"
   ]
  },
  {
   "cell_type": "code",
   "execution_count": 34,
   "id": "9ed5ef40",
   "metadata": {},
   "outputs": [
    {
     "data": {
      "text/html": [
       "<div>\n",
       "<style scoped>\n",
       "    .dataframe tbody tr th:only-of-type {\n",
       "        vertical-align: middle;\n",
       "    }\n",
       "\n",
       "    .dataframe tbody tr th {\n",
       "        vertical-align: top;\n",
       "    }\n",
       "\n",
       "    .dataframe thead th {\n",
       "        text-align: right;\n",
       "    }\n",
       "</style>\n",
       "<table border=\"1\" class=\"dataframe\">\n",
       "  <thead>\n",
       "    <tr style=\"text-align: right;\">\n",
       "      <th></th>\n",
       "      <th>Actual</th>\n",
       "      <th>Predicted</th>\n",
       "    </tr>\n",
       "  </thead>\n",
       "  <tbody>\n",
       "    <tr>\n",
       "      <th>0</th>\n",
       "      <td>540000</td>\n",
       "      <td>578011.069331</td>\n",
       "    </tr>\n",
       "    <tr>\n",
       "      <th>1</th>\n",
       "      <td>800000</td>\n",
       "      <td>687886.054955</td>\n",
       "    </tr>\n",
       "    <tr>\n",
       "      <th>2</th>\n",
       "      <td>631000</td>\n",
       "      <td>627431.870298</td>\n",
       "    </tr>\n",
       "    <tr>\n",
       "      <th>3</th>\n",
       "      <td>100000</td>\n",
       "      <td>123143.099708</td>\n",
       "    </tr>\n",
       "    <tr>\n",
       "      <th>4</th>\n",
       "      <td>390000</td>\n",
       "      <td>460852.690708</td>\n",
       "    </tr>\n",
       "    <tr>\n",
       "      <th>...</th>\n",
       "      <td>...</td>\n",
       "      <td>...</td>\n",
       "    </tr>\n",
       "    <tr>\n",
       "      <th>1332</th>\n",
       "      <td>350000</td>\n",
       "      <td>384892.460286</td>\n",
       "    </tr>\n",
       "    <tr>\n",
       "      <th>1333</th>\n",
       "      <td>180000</td>\n",
       "      <td>185438.726787</td>\n",
       "    </tr>\n",
       "    <tr>\n",
       "      <th>1334</th>\n",
       "      <td>155000</td>\n",
       "      <td>116039.592841</td>\n",
       "    </tr>\n",
       "    <tr>\n",
       "      <th>1335</th>\n",
       "      <td>390000</td>\n",
       "      <td>447884.043324</td>\n",
       "    </tr>\n",
       "    <tr>\n",
       "      <th>1336</th>\n",
       "      <td>105000</td>\n",
       "      <td>138585.506344</td>\n",
       "    </tr>\n",
       "  </tbody>\n",
       "</table>\n",
       "<p>1337 rows × 2 columns</p>\n",
       "</div>"
      ],
      "text/plain": [
       "      Actual      Predicted\n",
       "0     540000  578011.069331\n",
       "1     800000  687886.054955\n",
       "2     631000  627431.870298\n",
       "3     100000  123143.099708\n",
       "4     390000  460852.690708\n",
       "...      ...            ...\n",
       "1332  350000  384892.460286\n",
       "1333  180000  185438.726787\n",
       "1334  155000  116039.592841\n",
       "1335  390000  447884.043324\n",
       "1336  105000  138585.506344\n",
       "\n",
       "[1337 rows x 2 columns]"
      ]
     },
     "execution_count": 34,
     "metadata": {},
     "output_type": "execute_result"
    }
   ],
   "source": [
    "# compare the actual output values for X_test with the predicted values\n",
    "\n",
    "car = pd.DataFrame({'Actual': y_test, 'Predicted': y_pred})\n",
    "car.reset_index(inplace=True,drop=True)\n",
    "car"
   ]
  },
  {
   "cell_type": "code",
   "execution_count": null,
   "id": "4b42b242",
   "metadata": {},
   "outputs": [],
   "source": []
  },
  {
   "cell_type": "code",
   "execution_count": null,
   "id": "5581a3a0",
   "metadata": {},
   "outputs": [],
   "source": []
  },
  {
   "cell_type": "code",
   "execution_count": null,
   "id": "44dc36b8",
   "metadata": {},
   "outputs": [],
   "source": []
  },
  {
   "cell_type": "code",
   "execution_count": null,
   "id": "a2b7526f",
   "metadata": {},
   "outputs": [],
   "source": []
  }
 ],
 "metadata": {
  "kernelspec": {
   "display_name": "Python 3 (ipykernel)",
   "language": "python",
   "name": "python3"
  },
  "language_info": {
   "codemirror_mode": {
    "name": "ipython",
    "version": 3
   },
   "file_extension": ".py",
   "mimetype": "text/x-python",
   "name": "python",
   "nbconvert_exporter": "python",
   "pygments_lexer": "ipython3",
   "version": "3.9.7"
  }
 },
 "nbformat": 4,
 "nbformat_minor": 5
}
